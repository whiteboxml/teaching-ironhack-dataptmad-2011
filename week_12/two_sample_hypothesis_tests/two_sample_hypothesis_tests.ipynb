{
 "cells": [
  {
   "cell_type": "markdown",
   "metadata": {},
   "source": [
    "<div style=\"float:right; padding-top: 15px; padding-right: 15px\">\n",
    "    <div>\n",
    "        <a href=\"https://whiteboxml.com\">\n",
    "            <img src=\"https://whiteboxml.com/static/img/logo/black_bg_white.svg\" width=\"250\">\n",
    "        </a>\n",
    "    </div>\n",
    "</div>"
   ]
  },
  {
   "cell_type": "markdown",
   "metadata": {},
   "source": [
    "# two sample hypothesis testing"
   ]
  },
  {
   "cell_type": "markdown",
   "metadata": {},
   "source": [
    "## 0. python imports"
   ]
  },
  {
   "cell_type": "code",
   "execution_count": 2,
   "metadata": {},
   "outputs": [],
   "source": [
    "import pandas as pd\n",
    "from scipy.stats import ttest_rel, ttest_1samp, ttest_ind"
   ]
  },
  {
   "cell_type": "markdown",
   "metadata": {},
   "source": [
    "## 1. data loading"
   ]
  },
  {
   "cell_type": "markdown",
   "metadata": {},
   "source": [
    "let's load some data about the blood pressure of patients after and before a treatment..."
   ]
  },
  {
   "cell_type": "code",
   "execution_count": 3,
   "metadata": {},
   "outputs": [
    {
     "data": {
      "text/html": [
       "<div>\n",
       "<style scoped>\n",
       "    .dataframe tbody tr th:only-of-type {\n",
       "        vertical-align: middle;\n",
       "    }\n",
       "\n",
       "    .dataframe tbody tr th {\n",
       "        vertical-align: top;\n",
       "    }\n",
       "\n",
       "    .dataframe thead th {\n",
       "        text-align: right;\n",
       "    }\n",
       "</style>\n",
       "<table border=\"1\" class=\"dataframe\">\n",
       "  <thead>\n",
       "    <tr style=\"text-align: right;\">\n",
       "      <th></th>\n",
       "      <th>before</th>\n",
       "      <th>after</th>\n",
       "    </tr>\n",
       "  </thead>\n",
       "  <tbody>\n",
       "    <tr>\n",
       "      <th>0</th>\n",
       "      <td>136.713072</td>\n",
       "      <td>92.432965</td>\n",
       "    </tr>\n",
       "    <tr>\n",
       "      <th>1</th>\n",
       "      <td>134.735618</td>\n",
       "      <td>105.022643</td>\n",
       "    </tr>\n",
       "    <tr>\n",
       "      <th>2</th>\n",
       "      <td>127.529115</td>\n",
       "      <td>82.242766</td>\n",
       "    </tr>\n",
       "    <tr>\n",
       "      <th>3</th>\n",
       "      <td>144.527126</td>\n",
       "      <td>93.607172</td>\n",
       "    </tr>\n",
       "    <tr>\n",
       "      <th>4</th>\n",
       "      <td>124.214720</td>\n",
       "      <td>103.212223</td>\n",
       "    </tr>\n",
       "  </tbody>\n",
       "</table>\n",
       "</div>"
      ],
      "text/plain": [
       "       before       after\n",
       "0  136.713072   92.432965\n",
       "1  134.735618  105.022643\n",
       "2  127.529115   82.242766\n",
       "3  144.527126   93.607172\n",
       "4  124.214720  103.212223"
      ]
     },
     "execution_count": 3,
     "metadata": {},
     "output_type": "execute_result"
    }
   ],
   "source": [
    "blood_pressure = pd.read_csv('./data/blood_pressure.csv')\n",
    "blood_pressure.head()"
   ]
  },
  {
   "cell_type": "markdown",
   "metadata": {},
   "source": [
    "and some data about a generic AB testing experiment... as this is tabular data, the number of samples is equivalent in both a and b samples, but it may be different..."
   ]
  },
  {
   "cell_type": "code",
   "execution_count": 4,
   "metadata": {},
   "outputs": [
    {
     "data": {
      "text/html": [
       "<div>\n",
       "<style scoped>\n",
       "    .dataframe tbody tr th:only-of-type {\n",
       "        vertical-align: middle;\n",
       "    }\n",
       "\n",
       "    .dataframe tbody tr th {\n",
       "        vertical-align: top;\n",
       "    }\n",
       "\n",
       "    .dataframe thead th {\n",
       "        text-align: right;\n",
       "    }\n",
       "</style>\n",
       "<table border=\"1\" class=\"dataframe\">\n",
       "  <thead>\n",
       "    <tr style=\"text-align: right;\">\n",
       "      <th></th>\n",
       "      <th>a</th>\n",
       "      <th>b</th>\n",
       "    </tr>\n",
       "  </thead>\n",
       "  <tbody>\n",
       "    <tr>\n",
       "      <th>0</th>\n",
       "      <td>0.27</td>\n",
       "      <td>13.61</td>\n",
       "    </tr>\n",
       "    <tr>\n",
       "      <th>1</th>\n",
       "      <td>6.08</td>\n",
       "      <td>21.53</td>\n",
       "    </tr>\n",
       "    <tr>\n",
       "      <th>2</th>\n",
       "      <td>13.74</td>\n",
       "      <td>9.23</td>\n",
       "    </tr>\n",
       "    <tr>\n",
       "      <th>3</th>\n",
       "      <td>9.70</td>\n",
       "      <td>5.36</td>\n",
       "    </tr>\n",
       "    <tr>\n",
       "      <th>4</th>\n",
       "      <td>7.00</td>\n",
       "      <td>12.90</td>\n",
       "    </tr>\n",
       "  </tbody>\n",
       "</table>\n",
       "</div>"
      ],
      "text/plain": [
       "       a      b\n",
       "0   0.27  13.61\n",
       "1   6.08  21.53\n",
       "2  13.74   9.23\n",
       "3   9.70   5.36\n",
       "4   7.00  12.90"
      ]
     },
     "execution_count": 4,
     "metadata": {},
     "output_type": "execute_result"
    }
   ],
   "source": [
    "ab_test = pd.read_csv('./data/ab_test.csv')\n",
    "ab_test.head()"
   ]
  },
  {
   "cell_type": "markdown",
   "metadata": {},
   "source": [
    "## 2. hypothesis test example (related samples)"
   ]
  },
  {
   "cell_type": "markdown",
   "metadata": {},
   "source": [
    "test related distributions, is the difference between them due to chance?"
   ]
  },
  {
   "cell_type": "code",
   "execution_count": 5,
   "metadata": {},
   "outputs": [
    {
     "data": {
      "text/plain": [
       "Ttest_relResult(statistic=27.291841767560236, pvalue=7.303035069608042e-48)"
      ]
     },
     "execution_count": 5,
     "metadata": {},
     "output_type": "execute_result"
    }
   ],
   "source": [
    "ttest_rel(blood_pressure['before'], blood_pressure['after'])"
   ]
  },
  {
   "cell_type": "markdown",
   "metadata": {},
   "source": [
    "this is equivalent to a 1 sample vs constant hypothesis test with the sample as the different of values in samples versus a zero value constant..."
   ]
  },
  {
   "cell_type": "code",
   "execution_count": 6,
   "metadata": {},
   "outputs": [
    {
     "data": {
      "text/html": [
       "<div>\n",
       "<style scoped>\n",
       "    .dataframe tbody tr th:only-of-type {\n",
       "        vertical-align: middle;\n",
       "    }\n",
       "\n",
       "    .dataframe tbody tr th {\n",
       "        vertical-align: top;\n",
       "    }\n",
       "\n",
       "    .dataframe thead th {\n",
       "        text-align: right;\n",
       "    }\n",
       "</style>\n",
       "<table border=\"1\" class=\"dataframe\">\n",
       "  <thead>\n",
       "    <tr style=\"text-align: right;\">\n",
       "      <th></th>\n",
       "      <th>before</th>\n",
       "      <th>after</th>\n",
       "      <th>diff</th>\n",
       "    </tr>\n",
       "  </thead>\n",
       "  <tbody>\n",
       "    <tr>\n",
       "      <th>0</th>\n",
       "      <td>136.713072</td>\n",
       "      <td>92.432965</td>\n",
       "      <td>-44.280107</td>\n",
       "    </tr>\n",
       "    <tr>\n",
       "      <th>1</th>\n",
       "      <td>134.735618</td>\n",
       "      <td>105.022643</td>\n",
       "      <td>-29.712975</td>\n",
       "    </tr>\n",
       "    <tr>\n",
       "      <th>2</th>\n",
       "      <td>127.529115</td>\n",
       "      <td>82.242766</td>\n",
       "      <td>-45.286349</td>\n",
       "    </tr>\n",
       "    <tr>\n",
       "      <th>3</th>\n",
       "      <td>144.527126</td>\n",
       "      <td>93.607172</td>\n",
       "      <td>-50.919953</td>\n",
       "    </tr>\n",
       "    <tr>\n",
       "      <th>4</th>\n",
       "      <td>124.214720</td>\n",
       "      <td>103.212223</td>\n",
       "      <td>-21.002497</td>\n",
       "    </tr>\n",
       "  </tbody>\n",
       "</table>\n",
       "</div>"
      ],
      "text/plain": [
       "       before       after       diff\n",
       "0  136.713072   92.432965 -44.280107\n",
       "1  134.735618  105.022643 -29.712975\n",
       "2  127.529115   82.242766 -45.286349\n",
       "3  144.527126   93.607172 -50.919953\n",
       "4  124.214720  103.212223 -21.002497"
      ]
     },
     "execution_count": 6,
     "metadata": {},
     "output_type": "execute_result"
    }
   ],
   "source": [
    "blood_pressure['diff'] = blood_pressure['after'] - blood_pressure['before']\n",
    "blood_pressure.head()"
   ]
  },
  {
   "cell_type": "code",
   "execution_count": 7,
   "metadata": {},
   "outputs": [
    {
     "data": {
      "text/plain": [
       "Ttest_1sampResult(statistic=-27.291841767560236, pvalue=7.303035069608042e-48)"
      ]
     },
     "execution_count": 7,
     "metadata": {},
     "output_type": "execute_result"
    }
   ],
   "source": [
    "ttest_1samp(blood_pressure['diff'], 0)"
   ]
  },
  {
   "cell_type": "markdown",
   "metadata": {},
   "source": [
    "ojo: https://stackoverflow.com/questions/15984221/how-to-perform-two-sample-one-tailed-t-test-with-numpy-scipy"
   ]
  },
  {
   "cell_type": "markdown",
   "metadata": {},
   "source": [
    "## 3. hypothesis test example (independent samples)"
   ]
  },
  {
   "cell_type": "markdown",
   "metadata": {},
   "source": [
    "assuming equal variances"
   ]
  },
  {
   "cell_type": "raw",
   "metadata": {},
   "source": [
    "?ttest_ind"
   ]
  },
  {
   "cell_type": "code",
   "execution_count": 8,
   "metadata": {},
   "outputs": [
    {
     "data": {
      "text/plain": [
       "Ttest_indResult(statistic=2.637533181209767, pvalue=0.009713140852447347)"
      ]
     },
     "execution_count": 8,
     "metadata": {},
     "output_type": "execute_result"
    }
   ],
   "source": [
    "ttest_ind(ab_test['b'], ab_test['a'], equal_var=True)"
   ]
  },
  {
   "cell_type": "markdown",
   "metadata": {},
   "source": [
    "assuming unequal variances (Welch's)"
   ]
  },
  {
   "cell_type": "code",
   "execution_count": 10,
   "metadata": {},
   "outputs": [
    {
     "data": {
      "text/plain": [
       "Ttest_indResult(statistic=-2.637533181209767, pvalue=0.009776243024828825)"
      ]
     },
     "execution_count": 10,
     "metadata": {},
     "output_type": "execute_result"
    }
   ],
   "source": [
    "ttest_ind(ab_test['a'], ab_test['b'], equal_var=False)"
   ]
  },
  {
   "cell_type": "markdown",
   "metadata": {},
   "source": [
    "## 4. chi squared contingency test (bonus)"
   ]
  },
  {
   "cell_type": "markdown",
   "metadata": {},
   "source": [
    "**if there is enough time, perform a test for renfe dataset, and for class example**"
   ]
  },
  {
   "cell_type": "code",
   "execution_count": 11,
   "metadata": {},
   "outputs": [],
   "source": [
    "from scipy.stats import chi2_contingency"
   ]
  },
  {
   "cell_type": "raw",
   "metadata": {},
   "source": [
    "?chi2_contingency"
   ]
  },
  {
   "cell_type": "code",
   "execution_count": 12,
   "metadata": {},
   "outputs": [],
   "source": [
    "renfe = pd.read_csv('../../week_07/dataframe_calculations_and_big_data_tools/data/renfe_sample.csv')"
   ]
  },
  {
   "cell_type": "code",
   "execution_count": 22,
   "metadata": {},
   "outputs": [
    {
     "name": "stdout",
     "output_type": "stream",
     "text": [
      "<class 'pandas.core.frame.DataFrame'>\n",
      "RangeIndex: 100000 entries, 0 to 99999\n",
      "Data columns (total 13 columns):\n",
      " #   Column       Non-Null Count   Dtype  \n",
      "---  ------       --------------   -----  \n",
      " 0   Unnamed: 0   100000 non-null  int64  \n",
      " 1   insert_date  100000 non-null  object \n",
      " 2   origin       100000 non-null  object \n",
      " 3   destination  100000 non-null  object \n",
      " 4   start_date   100000 non-null  object \n",
      " 5   end_date     100000 non-null  object \n",
      " 6   train_type   100000 non-null  object \n",
      " 7   price        68978 non-null   float64\n",
      " 8   train_class  71104 non-null   object \n",
      " 9   fare         71104 non-null   object \n",
      " 10  price_tree   70016 non-null   object \n",
      " 11  batch        58099 non-null   object \n",
      " 12  id           71561 non-null   float64\n",
      "dtypes: float64(2), int64(1), object(10)\n",
      "memory usage: 9.9+ MB\n"
     ]
    }
   ],
   "source": [
    "renfe.info()"
   ]
  },
  {
   "cell_type": "code",
   "execution_count": 23,
   "metadata": {},
   "outputs": [],
   "source": [
    "contingency_table = pd.crosstab(renfe['train_class'], renfe['train_type'])"
   ]
  },
  {
   "cell_type": "code",
   "execution_count": 24,
   "metadata": {},
   "outputs": [
    {
     "data": {
      "text/html": [
       "<div>\n",
       "<style scoped>\n",
       "    .dataframe tbody tr th:only-of-type {\n",
       "        vertical-align: middle;\n",
       "    }\n",
       "\n",
       "    .dataframe tbody tr th {\n",
       "        vertical-align: top;\n",
       "    }\n",
       "\n",
       "    .dataframe thead th {\n",
       "        text-align: right;\n",
       "    }\n",
       "</style>\n",
       "<table border=\"1\" class=\"dataframe\">\n",
       "  <thead>\n",
       "    <tr style=\"text-align: right;\">\n",
       "      <th>train_type</th>\n",
       "      <th>ALTARIA</th>\n",
       "      <th>ALVIA</th>\n",
       "      <th>AV City</th>\n",
       "      <th>AVANT</th>\n",
       "      <th>AVANT-AVE</th>\n",
       "      <th>AVANT-LD</th>\n",
       "      <th>AVANT-MD</th>\n",
       "      <th>AVE</th>\n",
       "      <th>AVE-AVANT</th>\n",
       "      <th>AVE-AVE</th>\n",
       "      <th>...</th>\n",
       "      <th>LD-AVE</th>\n",
       "      <th>LD-MD</th>\n",
       "      <th>MD</th>\n",
       "      <th>MD-AVANT</th>\n",
       "      <th>MD-AVE</th>\n",
       "      <th>MD-LD</th>\n",
       "      <th>R. EXPRES</th>\n",
       "      <th>REG.EXP.</th>\n",
       "      <th>REGIONAL</th>\n",
       "      <th>TRENHOTEL</th>\n",
       "    </tr>\n",
       "    <tr>\n",
       "      <th>train_class</th>\n",
       "      <th></th>\n",
       "      <th></th>\n",
       "      <th></th>\n",
       "      <th></th>\n",
       "      <th></th>\n",
       "      <th></th>\n",
       "      <th></th>\n",
       "      <th></th>\n",
       "      <th></th>\n",
       "      <th></th>\n",
       "      <th></th>\n",
       "      <th></th>\n",
       "      <th></th>\n",
       "      <th></th>\n",
       "      <th></th>\n",
       "      <th></th>\n",
       "      <th></th>\n",
       "      <th></th>\n",
       "      <th></th>\n",
       "      <th></th>\n",
       "      <th></th>\n",
       "    </tr>\n",
       "  </thead>\n",
       "  <tbody>\n",
       "    <tr>\n",
       "      <th>Cama Turista</th>\n",
       "      <td>0</td>\n",
       "      <td>2</td>\n",
       "      <td>0</td>\n",
       "      <td>0</td>\n",
       "      <td>0</td>\n",
       "      <td>0</td>\n",
       "      <td>0</td>\n",
       "      <td>0</td>\n",
       "      <td>0</td>\n",
       "      <td>0</td>\n",
       "      <td>...</td>\n",
       "      <td>0</td>\n",
       "      <td>0</td>\n",
       "      <td>0</td>\n",
       "      <td>0</td>\n",
       "      <td>0</td>\n",
       "      <td>0</td>\n",
       "      <td>0</td>\n",
       "      <td>0</td>\n",
       "      <td>0</td>\n",
       "      <td>21</td>\n",
       "    </tr>\n",
       "    <tr>\n",
       "      <th>Preferente</th>\n",
       "      <td>89</td>\n",
       "      <td>1268</td>\n",
       "      <td>3</td>\n",
       "      <td>0</td>\n",
       "      <td>0</td>\n",
       "      <td>0</td>\n",
       "      <td>0</td>\n",
       "      <td>3975</td>\n",
       "      <td>0</td>\n",
       "      <td>0</td>\n",
       "      <td>...</td>\n",
       "      <td>2</td>\n",
       "      <td>8</td>\n",
       "      <td>7</td>\n",
       "      <td>0</td>\n",
       "      <td>2</td>\n",
       "      <td>12</td>\n",
       "      <td>0</td>\n",
       "      <td>0</td>\n",
       "      <td>0</td>\n",
       "      <td>0</td>\n",
       "    </tr>\n",
       "    <tr>\n",
       "      <th>PreferenteSólo plaza H</th>\n",
       "      <td>0</td>\n",
       "      <td>27</td>\n",
       "      <td>0</td>\n",
       "      <td>0</td>\n",
       "      <td>0</td>\n",
       "      <td>0</td>\n",
       "      <td>0</td>\n",
       "      <td>3</td>\n",
       "      <td>0</td>\n",
       "      <td>0</td>\n",
       "      <td>...</td>\n",
       "      <td>0</td>\n",
       "      <td>0</td>\n",
       "      <td>0</td>\n",
       "      <td>0</td>\n",
       "      <td>0</td>\n",
       "      <td>0</td>\n",
       "      <td>0</td>\n",
       "      <td>0</td>\n",
       "      <td>0</td>\n",
       "      <td>0</td>\n",
       "    </tr>\n",
       "    <tr>\n",
       "      <th>Turista</th>\n",
       "      <td>305</td>\n",
       "      <td>4027</td>\n",
       "      <td>1783</td>\n",
       "      <td>1575</td>\n",
       "      <td>0</td>\n",
       "      <td>0</td>\n",
       "      <td>0</td>\n",
       "      <td>38183</td>\n",
       "      <td>0</td>\n",
       "      <td>0</td>\n",
       "      <td>...</td>\n",
       "      <td>37</td>\n",
       "      <td>10</td>\n",
       "      <td>1028</td>\n",
       "      <td>0</td>\n",
       "      <td>13</td>\n",
       "      <td>24</td>\n",
       "      <td>364</td>\n",
       "      <td>410</td>\n",
       "      <td>2267</td>\n",
       "      <td>604</td>\n",
       "    </tr>\n",
       "    <tr>\n",
       "      <th>Turista Plus</th>\n",
       "      <td>0</td>\n",
       "      <td>3</td>\n",
       "      <td>91</td>\n",
       "      <td>0</td>\n",
       "      <td>0</td>\n",
       "      <td>0</td>\n",
       "      <td>0</td>\n",
       "      <td>3231</td>\n",
       "      <td>0</td>\n",
       "      <td>0</td>\n",
       "      <td>...</td>\n",
       "      <td>10</td>\n",
       "      <td>0</td>\n",
       "      <td>0</td>\n",
       "      <td>0</td>\n",
       "      <td>2</td>\n",
       "      <td>0</td>\n",
       "      <td>0</td>\n",
       "      <td>0</td>\n",
       "      <td>0</td>\n",
       "      <td>0</td>\n",
       "    </tr>\n",
       "    <tr>\n",
       "      <th>Turista con enlace</th>\n",
       "      <td>0</td>\n",
       "      <td>2</td>\n",
       "      <td>5</td>\n",
       "      <td>0</td>\n",
       "      <td>428</td>\n",
       "      <td>23</td>\n",
       "      <td>22</td>\n",
       "      <td>15</td>\n",
       "      <td>186</td>\n",
       "      <td>35</td>\n",
       "      <td>...</td>\n",
       "      <td>1064</td>\n",
       "      <td>474</td>\n",
       "      <td>353</td>\n",
       "      <td>43</td>\n",
       "      <td>653</td>\n",
       "      <td>1290</td>\n",
       "      <td>0</td>\n",
       "      <td>0</td>\n",
       "      <td>0</td>\n",
       "      <td>1</td>\n",
       "    </tr>\n",
       "    <tr>\n",
       "      <th>TuristaSólo plaza H</th>\n",
       "      <td>0</td>\n",
       "      <td>4</td>\n",
       "      <td>9</td>\n",
       "      <td>0</td>\n",
       "      <td>0</td>\n",
       "      <td>0</td>\n",
       "      <td>0</td>\n",
       "      <td>168</td>\n",
       "      <td>0</td>\n",
       "      <td>0</td>\n",
       "      <td>...</td>\n",
       "      <td>0</td>\n",
       "      <td>0</td>\n",
       "      <td>0</td>\n",
       "      <td>0</td>\n",
       "      <td>0</td>\n",
       "      <td>0</td>\n",
       "      <td>0</td>\n",
       "      <td>0</td>\n",
       "      <td>0</td>\n",
       "      <td>0</td>\n",
       "    </tr>\n",
       "  </tbody>\n",
       "</table>\n",
       "<p>7 rows × 27 columns</p>\n",
       "</div>"
      ],
      "text/plain": [
       "train_type              ALTARIA  ALVIA  AV City  AVANT  AVANT-AVE  AVANT-LD  \\\n",
       "train_class                                                                   \n",
       "Cama Turista                  0      2        0      0          0         0   \n",
       "Preferente                   89   1268        3      0          0         0   \n",
       "PreferenteSólo plaza H        0     27        0      0          0         0   \n",
       "Turista                     305   4027     1783   1575          0         0   \n",
       "Turista Plus                  0      3       91      0          0         0   \n",
       "Turista con enlace            0      2        5      0        428        23   \n",
       "TuristaSólo plaza H           0      4        9      0          0         0   \n",
       "\n",
       "train_type              AVANT-MD    AVE  AVE-AVANT  AVE-AVE  ...  LD-AVE  \\\n",
       "train_class                                                  ...           \n",
       "Cama Turista                   0      0          0        0  ...       0   \n",
       "Preferente                     0   3975          0        0  ...       2   \n",
       "PreferenteSólo plaza H         0      3          0        0  ...       0   \n",
       "Turista                        0  38183          0        0  ...      37   \n",
       "Turista Plus                   0   3231          0        0  ...      10   \n",
       "Turista con enlace            22     15        186       35  ...    1064   \n",
       "TuristaSólo plaza H            0    168          0        0  ...       0   \n",
       "\n",
       "train_type              LD-MD    MD  MD-AVANT  MD-AVE  MD-LD  R. EXPRES  \\\n",
       "train_class                                                               \n",
       "Cama Turista                0     0         0       0      0          0   \n",
       "Preferente                  8     7         0       2     12          0   \n",
       "PreferenteSólo plaza H      0     0         0       0      0          0   \n",
       "Turista                    10  1028         0      13     24        364   \n",
       "Turista Plus                0     0         0       2      0          0   \n",
       "Turista con enlace        474   353        43     653   1290          0   \n",
       "TuristaSólo plaza H         0     0         0       0      0          0   \n",
       "\n",
       "train_type              REG.EXP.  REGIONAL  TRENHOTEL  \n",
       "train_class                                            \n",
       "Cama Turista                   0         0         21  \n",
       "Preferente                     0         0          0  \n",
       "PreferenteSólo plaza H         0         0          0  \n",
       "Turista                      410      2267        604  \n",
       "Turista Plus                   0         0          0  \n",
       "Turista con enlace             0         0          1  \n",
       "TuristaSólo plaza H            0         0          0  \n",
       "\n",
       "[7 rows x 27 columns]"
      ]
     },
     "execution_count": 24,
     "metadata": {},
     "output_type": "execute_result"
    }
   ],
   "source": [
    "contingency_table"
   ]
  },
  {
   "cell_type": "code",
   "execution_count": 25,
   "metadata": {},
   "outputs": [],
   "source": [
    "chi2, p, dof, ex = chi2_contingency(contingency_table, correction=False)"
   ]
  },
  {
   "cell_type": "code",
   "execution_count": 26,
   "metadata": {},
   "outputs": [
    {
     "data": {
      "text/plain": [
       "71477.89846077052"
      ]
     },
     "execution_count": 26,
     "metadata": {},
     "output_type": "execute_result"
    }
   ],
   "source": [
    "chi2"
   ]
  },
  {
   "cell_type": "code",
   "execution_count": 27,
   "metadata": {},
   "outputs": [
    {
     "data": {
      "text/plain": [
       "156"
      ]
     },
     "execution_count": 27,
     "metadata": {},
     "output_type": "execute_result"
    }
   ],
   "source": [
    "dof"
   ]
  },
  {
   "cell_type": "code",
   "execution_count": 28,
   "metadata": {},
   "outputs": [
    {
     "data": {
      "text/plain": [
       "array([[1.38529478e-01, 1.87507032e+00, 6.64871175e-01, 5.53766314e-01,\n",
       "        1.50483798e-01, 8.08674617e-03, 7.73514851e-03, 1.60240633e+01,\n",
       "        6.53971647e-02, 1.23059181e-02, 6.74364311e-01, 2.57017889e-01,\n",
       "        3.34720972e-01, 1.14620837e-01, 7.45035441e-01, 2.90771265e-01,\n",
       "        2.46118362e-02, 3.91328195e-01, 1.72986049e-01, 4.88017552e-01,\n",
       "        1.51186994e-02, 2.35570432e-01, 4.66218497e-01, 1.27981548e-01,\n",
       "        1.44155041e-01, 7.97071895e-01, 2.20100135e-01],\n",
       "       [3.01717203e+01, 4.08390316e+02, 1.44808942e+02, 1.20610303e+02,\n",
       "        3.27753713e+01, 1.76129332e+00, 1.68471535e+00, 3.49004100e+03,\n",
       "        1.42435025e+01, 2.68022896e+00, 1.46876547e+02, 5.59784963e+01,\n",
       "        7.29022277e+01, 2.49644183e+01, 1.62268719e+02, 6.33299814e+01,\n",
       "        5.36045792e+00, 8.52312809e+01, 3.76763614e+01, 1.06290223e+02,\n",
       "        3.29285272e+00, 5.13072401e+01, 1.01542389e+02, 2.78743812e+01,\n",
       "        3.13969678e+01, 1.73602259e+02, 4.79378094e+01],\n",
       "       [1.77317732e-01, 2.40009001e+00, 8.51035104e-01, 7.08820882e-01,\n",
       "        1.92619262e-01, 1.03510351e-02, 9.90099010e-03, 2.05108011e+01,\n",
       "        8.37083708e-02, 1.57515752e-02, 8.63186319e-01, 3.28982898e-01,\n",
       "        4.28442844e-01, 1.46714671e-01, 9.53645365e-01, 3.72187219e-01,\n",
       "        3.15031503e-02, 5.00900090e-01, 2.21422142e-01, 6.24662466e-01,\n",
       "        1.93519352e-02, 3.01530153e-01, 5.96759676e-01, 1.63816382e-01,\n",
       "        1.84518452e-01, 1.02025203e+00, 2.81728173e-01],\n",
       "       [2.97860542e+02, 4.03170120e+03, 1.42957940e+03, 1.19068618e+03,\n",
       "        3.23564244e+02, 1.73877982e+01, 1.66318069e+01, 3.44543000e+04,\n",
       "        1.40614368e+02, 2.64596928e+01, 1.44999117e+03, 5.52629585e+02,\n",
       "        7.19703645e+02, 2.46453139e+02, 1.60194540e+03, 6.25204742e+02,\n",
       "        5.29193857e+01, 8.41418232e+02, 3.71947682e+02, 1.04931582e+03,\n",
       "        3.25076226e+01, 5.06514120e+02, 1.00244436e+03, 2.75180806e+02,\n",
       "        3.09956402e+02, 1.71383211e+03, 4.73250506e+02],\n",
       "       [2.06408922e+01, 2.79385478e+02, 9.90658050e+01, 8.25111808e+01,\n",
       "        2.24220860e+01, 1.20492518e+00, 1.15253713e+00, 2.38758544e+03,\n",
       "        9.74417754e+00, 1.83358180e+00, 1.00480282e+02, 3.82956655e+01,\n",
       "        4.98734248e+01, 1.70785047e+01, 1.11010281e+02, 4.33249184e+01,\n",
       "        3.66716359e+00, 5.83079011e+01, 2.57749212e+01, 7.27146152e+01,\n",
       "        2.25268621e+00, 3.50999944e+01, 6.94665560e+01, 1.90692507e+01,\n",
       "        2.14791010e+01, 1.18763712e+02, 3.27949201e+01],\n",
       "       [4.38584327e+01, 5.93647263e+02, 2.10498214e+02, 1.75322415e+02,\n",
       "        4.76431706e+01, 2.56026384e+00, 2.44894802e+00, 5.07321845e+03,\n",
       "        2.07047423e+01, 3.89605367e+00, 2.13503741e+02, 8.13718637e+01,\n",
       "        1.05972660e+02, 3.62889570e+01, 2.35878221e+02, 9.20581824e+01,\n",
       "        7.79210734e+00, 1.23894507e+02, 5.47673830e+01, 1.54506357e+02,\n",
       "        4.78658022e+00, 7.45815988e+01, 1.47604776e+02, 4.05189581e+01,\n",
       "        4.56394858e+01, 2.52352962e+02, 6.96837027e+01],\n",
       "       [1.15256526e+00, 1.56005851e+01, 5.53172817e+00, 4.60733573e+00,\n",
       "        1.25202520e+00, 6.72817282e-02, 6.43564356e-02, 1.33320207e+02,\n",
       "        5.44104410e-01, 1.02385239e-01, 5.61071107e+00, 2.13838884e+00,\n",
       "        2.78487849e+00, 9.53645365e-01, 6.19869487e+00, 2.41921692e+00,\n",
       "        2.04770477e-01, 3.25585059e+00, 1.43924392e+00, 4.06030603e+00,\n",
       "        1.25787579e-01, 1.95994599e+00, 3.87893789e+00, 1.06480648e+00,\n",
       "        1.19936994e+00, 6.63163816e+00, 1.83123312e+00]])"
      ]
     },
     "execution_count": 28,
     "metadata": {},
     "output_type": "execute_result"
    }
   ],
   "source": [
    "ex"
   ]
  },
  {
   "cell_type": "code",
   "execution_count": 29,
   "metadata": {},
   "outputs": [
    {
     "data": {
      "text/plain": [
       "0.0"
      ]
     },
     "execution_count": 29,
     "metadata": {},
     "output_type": "execute_result"
    }
   ],
   "source": [
    "p"
   ]
  },
  {
   "cell_type": "markdown",
   "metadata": {},
   "source": [
    "<div style=\"padding-top: 25px; float: right\">\n",
    "    <div>    \n",
    "        <i>&nbsp;&nbsp;© Copyright by</i>\n",
    "    </div>\n",
    "    <div>\n",
    "        <a href=\"https://whiteboxml.com\">\n",
    "            <img src=\"https://whiteboxml.com/static/img/logo/black_bg_white.svg\" width=\"125\">\n",
    "        </a>\n",
    "    </div>\n",
    "</div>"
   ]
  }
 ],
 "metadata": {
  "kernelspec": {
   "display_name": "Python [conda env:ml_env]",
   "language": "python",
   "name": "conda-env-ml_env-py"
  },
  "language_info": {
   "codemirror_mode": {
    "name": "ipython",
    "version": 3
   },
   "file_extension": ".py",
   "mimetype": "text/x-python",
   "name": "python",
   "nbconvert_exporter": "python",
   "pygments_lexer": "ipython3",
   "version": "3.8.3"
  }
 },
 "nbformat": 4,
 "nbformat_minor": 4
}
