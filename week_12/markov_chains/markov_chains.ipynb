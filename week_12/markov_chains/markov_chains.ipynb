{
 "cells": [
  {
   "cell_type": "markdown",
   "metadata": {},
   "source": [
    "<div style=\"float:right; padding-top: 15px; padding-right: 15px\">\n",
    "    <div>\n",
    "        <a href=\"https://whiteboxml.com\">\n",
    "            <img src=\"https://whiteboxml.com/static/img/logo/black_bg_white.svg\" width=\"250\">\n",
    "        </a>\n",
    "    </div>\n",
    "</div>"
   ]
  },
  {
   "cell_type": "markdown",
   "metadata": {},
   "source": [
    "# Markovify"
   ]
  },
  {
   "cell_type": "markdown",
   "metadata": {},
   "source": [
    "https://github.com/jsvine/markovify"
   ]
  },
  {
   "cell_type": "code",
   "execution_count": 1,
   "metadata": {},
   "outputs": [],
   "source": [
    "import markovify"
   ]
  },
  {
   "cell_type": "markdown",
   "metadata": {},
   "source": [
    "## 1. Spanish Bible"
   ]
  },
  {
   "cell_type": "code",
   "execution_count": 8,
   "metadata": {},
   "outputs": [
    {
     "data": {
      "text/plain": [
       "'LA SANTA BIBLIA, ANTIGUO TESTAMENTO, VERSIÓN DE CASIODORO DE REINA (1569) REVISADA POR CIPRIANO DE VALERA (1602), OTRAS REVISIONES: 1862, 1909 Y 1960\\r\\n\\r\\nParte # 1 (INCLUYE LA LEY), los 10 primeros libros del AT: Gn, Ex, Lv, Nm, Dt, Jos, Jue, Rt, 1 S y 2 S\\r\\n\\r\\n\\r\\nLIBRO PRIMERO DE MOISÉS\\r\\n\\r\\nGÉNESIS\\r\\n\\r\\nLa creación\\r\\n\\r\\nGénesis 1\\r\\n\\r\\nGénesis 1:1\\r\\n          En el principio creó Dios los cielos y la tierra.\\r\\n\\r\\n Génesis 1:2\\r\\n          Y la tierra estaba desordenada y vacía, y las tinieblas\\r\\n          estaban sobre la faz del abismo, y el Espíritu de Dios se\\r\\n          movía sobre la faz de las aguas.\\r\\n\\r\\n Génesis 1:3\\r\\n          Y dijo Dios: Sea la luz; y fue la luz.\\r\\n\\r\\n Génesis 1:4\\r\\n          Y vio Dios que la luz era buena; y separó Dios la luz de\\r\\n          las tinieblas.\\r\\n\\r\\n Génesis 1:5\\r\\n          Y llamó Dios a la luz Día, y a las tinieblas llamó Noche.\\r\\n          Y fue la tarde y la mañana un día.\\r\\n\\r\\n Génesis 1:6\\r\\n          Luego dijo Dios: Haya expansión en medio de las aguas, y\\r\\n          se'"
      ]
     },
     "execution_count": 8,
     "metadata": {},
     "output_type": "execute_result"
    }
   ],
   "source": [
    "with open('data/spanish_bible.txt', 'rb') as f:\n",
    "    spanish_bible = f.read().decode('latin')\n",
    "\n",
    "spanish_bible[:1000]"
   ]
  },
  {
   "cell_type": "markdown",
   "metadata": {},
   "source": [
    "**everything would work better with a good text cleanup...**"
   ]
  },
  {
   "cell_type": "code",
   "execution_count": 9,
   "metadata": {},
   "outputs": [],
   "source": [
    "bible_model = markovify.Text(spanish_bible)"
   ]
  },
  {
   "cell_type": "code",
   "execution_count": 11,
   "metadata": {},
   "outputs": [
    {
     "name": "stdout",
     "output_type": "stream",
     "text": [
      "1: 18 Porque yo conozco lo que yo soy vuestro consolador.\n",
      "2: 22 Había asimismo dicho Ezequías: Este año comeréis el fruto de tu padre, ni profanará el lecho de mi corazón.\n",
      "3: Entonces Jehová dijo a David: Vete en paz, y el Carmelo, y los hechiceros, los fornicarios, los homicidas, 10 para poder retener el reino.\n",
      "4: 4 Y viendo veréis, y no la habrá.\n",
      "5: 24 Entonces Josué, postrándose sobre su cabeza, y le rogaron diciendo: Si tus hijos hermosos son míos.\n"
     ]
    }
   ],
   "source": [
    "for i in range(5):\n",
    "    print(f'{i+1}: {bible_model.make_sentence()}')"
   ]
  },
  {
   "cell_type": "markdown",
   "metadata": {},
   "source": [
    "## 2. Donald Trump"
   ]
  },
  {
   "cell_type": "code",
   "execution_count": 12,
   "metadata": {},
   "outputs": [
    {
     "data": {
      "text/plain": [
       "'\".@chucktodd is a nice guy , but just hopeless. He knows so little about politics and, in particular, winning!  I fixed his rating problem.\"\\n\".@Morning_Joe just went off the rails. I will beat Hillary easily - she does not want to run against me. I am tuning them out, waste of time\"\\n\".@tedcruz should not make statements behind closed doors to his bosses, he should bring them out into the open - more fun that way!\"\\n\"Looks like @tedcruz is getting ready to attack. I am leading by so much he must. I hope so, he will fall like all others. Will be easy!\"\\n\".@Morning_Joe is so off on Iowa, which I am leading big in new @CNN poll. I will win Iowa. Also, I beat Hillary easily!\"\\n\"Great evening last night in  New Hampshire. Got the endorsement from the New England Police Union - big  territory, great people! Thank you.\"\\n.@BernardGoldberg was not good tonight on @oreillyfactor. He just doesn\\'t know about winning! But he is a nice guy.\\n\"\"\"@FoxNewsInsider: .@FrankLuntz Explains Why @realDonaldTrump '"
      ]
     },
     "execution_count": 12,
     "metadata": {},
     "output_type": "execute_result"
    }
   ],
   "source": [
    "with open('data/donald_trump.txt') as f:\n",
    "    donald_trump = f.read()\n",
    "\n",
    "donald_trump[:1000]"
   ]
  },
  {
   "cell_type": "code",
   "execution_count": 13,
   "metadata": {},
   "outputs": [],
   "source": [
    "trump_model = markovify.NewlineText(donald_trump)"
   ]
  },
  {
   "cell_type": "code",
   "execution_count": 15,
   "metadata": {},
   "outputs": [
    {
     "name": "stdout",
     "output_type": "stream",
     "text": [
      "1: Great reception in D.C. At the Values Voter Summit. Now checking on my great night and crowd in Dallas! https://t.co/HNgVyBJEz\n",
      "2: Looking forward to the start of the other candidates are doing really badly. Too much debt and not enough viewers. Need money fast. Funny!\n",
      "3: Can't believe Major League Baseball just rejected @PeteRose_14 for the Clintons. Questions given to Clinton in advance. No credibility.\n",
      "4: Just found out I won every poll in every STATE and NATIONAL - and by big numbers! Thanks\n",
      "5: Just returned home from the Evangelicals in the results.\n"
     ]
    }
   ],
   "source": [
    "for i in range(5):\n",
    "    print(f'{i+1}: {trump_model.make_sentence()}')"
   ]
  },
  {
   "cell_type": "markdown",
   "metadata": {},
   "source": [
    "<div style=\"padding-top: 25px; float: right\">\n",
    "    <div>    \n",
    "        <i>&nbsp;&nbsp;© Copyright by</i>\n",
    "    </div>\n",
    "    <div>\n",
    "        <a href=\"https://whiteboxml.com\">\n",
    "            <img src=\"https://whiteboxml.com/static/img/logo/black_bg_white.svg\" width=\"125\">\n",
    "        </a>\n",
    "    </div>\n",
    "</div>"
   ]
  }
 ],
 "metadata": {
  "kernelspec": {
   "display_name": "Python [conda env:ironhack_env]",
   "language": "python",
   "name": "conda-env-ironhack_env-py"
  },
  "language_info": {
   "codemirror_mode": {
    "name": "ipython",
    "version": 3
   },
   "file_extension": ".py",
   "mimetype": "text/x-python",
   "name": "python",
   "nbconvert_exporter": "python",
   "pygments_lexer": "ipython3",
   "version": "3.7.9"
  }
 },
 "nbformat": 4,
 "nbformat_minor": 4
}
